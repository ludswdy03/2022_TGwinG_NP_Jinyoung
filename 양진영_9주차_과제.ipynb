{
 "cells": [
  {
   "cell_type": "markdown",
   "id": "14cee6f2",
   "metadata": {},
   "source": [
    "# [T.G.WinG Web/Python] Algorithm 과제\n",
    "\n",
    "제출 기한: 5월 27일 금요일 자정<br>\n",
    "제출 포맷: .ipynb<br>\n",
    "제출 플랫폼: GitHub<br>"
   ]
  },
  {
   "cell_type": "markdown",
   "id": "f2c3061c",
   "metadata": {},
   "source": [
    "### 1. Insertion Sort 의 경우 binary Search 를 이용해 최적화 할 수 있습니다. 아래 링크를 읽고 Linear Search 가 아닌 binary Search 를 이용해 Insertion sort 를 최적화 시켜 보세요. [20점] <br>\n",
    "[링크: [Binary-Insertion-Sort](https://www.interviewkickstart.com/learn/binary-insertion-sort)]"
   ]
  },
  {
   "cell_type": "code",
   "execution_count": 1,
   "id": "07d3a42b",
   "metadata": {},
   "outputs": [],
   "source": [
    "def binaryInsertionSort(array):\n",
    "    for i in range (1,len(array)):\n",
    "        key = array[i]\n",
    "        first = 0\n",
    "        last = i\n",
    "        while(first < last):\n",
    "            center = (first + last) // 2\n",
    "            if (array[center] <= key):\n",
    "                first = center + 1\n",
    "            else:\n",
    "                last = center\n",
    "        position = first\n",
    "        j = i\n",
    "        while(j > position):\n",
    "            array[j] = array[j-1]\n",
    "            j = j-1\n",
    "        array[position] = key\n",
    "    return array"
   ]
  },
  {
   "cell_type": "markdown",
   "id": "2004993a",
   "metadata": {},
   "source": [
    "### 2. Sorting Algorithm 은 Stable 한 알고리즘과 Stable 하지 않은 알고리즘으로 나뉩니다. Stable 하다는 것이 무엇인지 설명하고, 다음 알고리즘들이 Stable 한지 아닌지 분류하세요. [10 점]<br>\n",
    "[Merge, Insertion, Selection, Quick, Bubble]"
   ]
  },
  {
   "cell_type": "markdown",
   "id": "6677d1db",
   "metadata": {},
   "source": [
    "[2번 문제 답안 입력 블럭]\n",
    "\n",
    "Sorting Algorithm에서 Stable의 의미는 중복된 키 값이 있을 때 정렬 시 객체들의 순서가 유지되는 것을 말한다. 정렬 후 순서가 유지되는 알고리즘을 Stable하다고 하고 순서가 유지되지 않는 알고리즘을 Unstable하다고 한다.\n",
    "예를 들어\n",
    "\n",
    "(노란색, A), (빨간색, B), (파란색, A), (초록색, B), (주황색, A)\n",
    "\n",
    "이러한 객체들을 무지개 색 순서로만 정렬하면\n",
    "\n",
    "(빨간색, B), (주황색, A), (노란색, A), (초록색, B), (파란색, A)로 정렬된다.\n",
    "\n",
    "A가 앞에 오게끔 정렬할 때, Unstable한 알고리즘은\n",
    "\n",
    "(주황색, A), (노란색, A), (파란색, A), (초록색, B), (빨간색, A) 이렇게 기존의 B끼리의 순서가 유지되지 않게 정렬될 수 있다.\n",
    "\n",
    "하지만 Stable한 알고리즘은\n",
    "\n",
    "(주황색, A), (노란색, A), (파란색, A), (빨간색, B), (초록색, B) 같이 기존의 B끼리의 순서가 유지되며 정렬된다.\n",
    "\n",
    "Merge 알고리즘은 중복된 키 값의 순서가 정렬 후에 유지되므로 Stable하다.\n",
    "\n",
    "Insertion 알고리즘은 중복된 키 값의 순서가 정렬 후에 유지되므로 Stable하다.\n",
    "\n",
    "Selection 알고리즘은 중복된 키 값이 순서대로 바뀌지 않을 수 있어 Unstable하다.\n",
    "\n",
    "Quick 알고리즘은 중복된 키 값이 순서대로 바뀌지 않을 수 있어 Unstable하다.\n",
    "\n",
    "Bubble 알고리즘은 중복된 키 값의 순서가 정렬 후에 유지되므로 Stable하다.\n",
    "\n",
    "Merge, Insertion, Bubble 은 Stable한 알고리즘이고 Selection, Quick은 Unstable한 알고리즘이다.\n"
   ]
  },
  {
   "cell_type": "markdown",
   "id": "f3acb76b",
   "metadata": {},
   "source": [
    "### 3. Sorting Algorithm 은 In-place 알고리즘과 not-in-place 알고리즘으로 나뉩니다. In-place 가 어떤 것인지, 그리고 다음 알고리즘들이 In- place 인지 아닌지 분류하세요. [10 점]<br>\n",
    "[Merge, Insertion, Selection, Quick, Bubble]"
   ]
  },
  {
   "cell_type": "markdown",
   "id": "32c73bcb",
   "metadata": {},
   "source": [
    "[3번 문제 답안 입력 블럭]\n",
    "\n",
    "In-place는 원소들의 개수에 비해 충분히 무시할 만한 저장 공간만을 더 사용하는 알고리즘이고 not-in-place는 원소들의 개수에 비례하여 저장 공간을 더 사용하는 알고리즘을 의미한다.\n",
    "\n",
    "Merge 알고리즘은 n개의 원소를 n/2개씩 나누므로 O(n)의 공간 복잡도를 가지고 not-in-place 알고리즘이다.\n",
    "\n",
    "Insertion 알고리즘은 자리를 바꿀 때 임시 변수 하나의 공간이 필요하므로 in-place 알고리즘이다.\n",
    "\n",
    "Selection 알고리즘은 자리를 바꿀 때 임시 변수 하나의 공간이 필요하므로 in-place 알고리즘이다.\n",
    "\n",
    "Quick 알고리즘의 공간 복잡도는 O(nlogn)이다. 따라서 in-place 정렬이라 하기 힘들지만 실용적으로 작은 메모리만을 사용하므로 흔히 in-place이라 하기도 한다.\n",
    "\n",
    "Bubble 알고리즘은 자리를 바꿀 때 임시 변수 하나의 공간이 필요하므로 in-place 알고리즘이다.\n",
    "\n",
    "Insertion, Selection, Quick, Bubble 은 in-place 알고리즘이고 Merge는 not-in-place 알고리즘이다."
   ]
  },
  {
   "cell_type": "markdown",
   "id": "0d8d686f",
   "metadata": {},
   "source": [
    "### 4. 다음 링크를 보고 Quick Sort 를 구현하세요. [20 점]\n",
    "[링크: [Binary-Insertion-Sort](https://www.programiz.com/dsa/quick-sort)]"
   ]
  },
  {
   "cell_type": "code",
   "execution_count": 1,
   "id": "d8d2e764",
   "metadata": {},
   "outputs": [],
   "source": [
    "def quickSort(array, low, high):\n",
    "    if low < high:\n",
    "        pivot = array[high]\n",
    "        i = low - 1\n",
    "        for j in range(low, high):\n",
    "            if array[j] <= pivot:\n",
    "                i = i + 1\n",
    "                (array[i], array[j]) = (array[j], array[i])\n",
    "        (array[i + 1], array[high]) = (array[high], array[i + 1])\n",
    "        pi = i + 1\n",
    "        quickSort(array, low, pi - 1)\n",
    "        quickSort(array, pi + 1, high)\n",
    "        return array"
   ]
  },
  {
   "cell_type": "markdown",
   "id": "81d36b6e",
   "metadata": {},
   "source": [
    "### 5. Python에서는 기본적으로 sort 함수를 제공합니다. 검색해서, 어떤 sort를 사용하는지 쓰시고, 해당 알고리즘에 대해서 읽어보시고, 이해하신 대로 작성하세요. [20 점]\n",
    "```python\n",
    "nums = [1,3,4,6,8,123,124,12,31512,7]\n",
    "nums.sort() # 이 코드의 Sorting Algorithm은 어떤 Algorithm일까요?\n",
    "print(nums) #[1,3,4,6,7,8,12,123,124,31512]\n",
    "```"
   ]
  },
  {
   "cell_type": "markdown",
   "id": "10cd4b50",
   "metadata": {},
   "source": [
    "[5번 문제 답안 입력 블럭]\n",
    "\n",
    "파이썬에서는 Tim Sort 알고리즘을 정렬 알고리즘으로 사용한다. Tim Sort는 Tim Peters가 만든 알고리즘으로 Merge Sort와 Insertion Sort를 결합한 알고리즘이다.\n",
    "\n",
    "Merge Sort를 기반으로 한다. 무작위인 데이터에 대해서는 속도가 빠른 편이 아니지만 일정한 패턴이 있는 일반적인 데이터에 대해서는 빠르고 안정적인 특성으로 보여주고 최악의 시간복잡도가 O(nlogn)이기 때문에 많은 언어에서 표준 정렬 알고리즘으로 사용하고 있다."
   ]
  },
  {
   "cell_type": "markdown",
   "id": "f29b7766",
   "metadata": {},
   "source": [
    "### 6. 유클리드 호제법에 대해서 검색하고, 이용해서 102734612322 과 292237644의 최대 공약수를 구하세요. [20 점]"
   ]
  },
  {
   "cell_type": "markdown",
   "id": "ea7c0cfa",
   "metadata": {},
   "source": [
    "[6번 문제 답안 입력 블럭]\n",
    "\n",
    "유클리드 호제법은 양의 정수나 다항식의 최대 공약수를 구하는 방법이다.\n",
    "\n",
    "알고리즘은 다음과 같이 정의된다.\n",
    "\n",
    "두 양의 정수 a, b(a > b)에 대해 a = bq + r (0 <= r < b)이라 하면, a, b의 최대공약수는 b, r의 최대공약수와 같다.\n",
    "\n",
    "파이썬으로 다음과 같이 구현할 수 있다."
   ]
  },
  {
   "cell_type": "code",
   "execution_count": 4,
   "id": "9a789974",
   "metadata": {},
   "outputs": [
    {
     "name": "stdout",
     "output_type": "stream",
     "text": [
      "6\n"
     ]
    }
   ],
   "source": [
    "def Euclidian(a, b):\n",
    "    while b != 0:\n",
    "        r = a % b\n",
    "        a = b\n",
    "        b = r\n",
    "    return a\n",
    "\n",
    "print(Euclidian(102734612322, 292237644))"
   ]
  },
  {
   "cell_type": "markdown",
   "id": "f327c190",
   "metadata": {},
   "source": [
    "위 코드를 실행하여 102734612322 와 292237644의 최대공약수를 구하면 6이 나온다."
   ]
  }
 ],
 "metadata": {
  "interpreter": {
   "hash": "e218e3bb93e41bf3691dfe9ebf51f1c1a356c999d8018df21ff7a0f00922a800"
  },
  "kernelspec": {
   "display_name": "Python 3.9.7 ('base')",
   "language": "python",
   "name": "python3"
  },
  "language_info": {
   "codemirror_mode": {
    "name": "ipython",
    "version": 3
   },
   "file_extension": ".py",
   "mimetype": "text/x-python",
   "name": "python",
   "nbconvert_exporter": "python",
   "pygments_lexer": "ipython3",
   "version": "3.9.7"
  }
 },
 "nbformat": 4,
 "nbformat_minor": 5
}
